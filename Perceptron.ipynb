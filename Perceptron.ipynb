{
 "cells": [
  {
   "cell_type": "markdown",
   "id": "b5ab3b50-d94d-4da7-8545-023e49b53a5a",
   "metadata": {},
   "source": [
    "# Perceptron"
   ]
  },
  {
   "cell_type": "code",
   "execution_count": 1,
   "id": "d836f446-b6e3-493f-bd8c-1e813ad258b9",
   "metadata": {},
   "outputs": [],
   "source": [
    "import numpy as np\n",
    "import pandas as pd"
   ]
  },
  {
   "cell_type": "code",
   "execution_count": 3,
   "id": "c3dc901b-21f4-4825-b444-7c6026befef5",
   "metadata": {},
   "outputs": [],
   "source": [
    "# In perceptron trick we run the epochs and in each epoch if the prediction is wrong for a specific data point then only we update the weights\n",
    "# let's apply perceptron for AND logic"
   ]
  },
  {
   "cell_type": "code",
   "execution_count": 4,
   "id": "4d694a45-1313-4aa1-86fa-cfa73387766d",
   "metadata": {},
   "outputs": [],
   "source": [
    "data={\n",
    "    'X1':[-1,-1,1,1],\n",
    "    'X2':[-1,1,-1,1],\n",
    "    'Y':[-1,-1,-1,1]\n",
    "}\n",
    "df=pd.DataFrame(data)\n"
   ]
  },
  {
   "cell_type": "code",
   "execution_count": null,
   "id": "01fac8d4-e412-4409-afa2-91430faa6867",
   "metadata": {},
   "outputs": [],
   "source": [
    "# let's initialise the weights\n",
    "w1,w2,b=1,1,1\n",
    "epochs=10\n",
    "alpha=0.1\n",
    "for i in range(epochs):\n",
    "    for i in range(len(df)):\n",
    "        x1=df.loc[i,'X1']\n",
    "        x2=df.loc[i,'X2']\n",
    "        y=df.loc[i,'Y']\n",
    "        y_in=w1*x1+w2*x2+b\n",
    "        y_pred=1 if y_in>=0 else -1\n",
    "        predictions.append(y_pred)\n",
    "        w1=w1+x1*y\n",
    "        w2=w2+x2*y\n",
    "        b=b+y"
   ]
  }
 ],
 "metadata": {
  "kernelspec": {
   "display_name": "Python 3 (ipykernel)",
   "language": "python",
   "name": "python3"
  },
  "language_info": {
   "codemirror_mode": {
    "name": "ipython",
    "version": 3
   },
   "file_extension": ".py",
   "mimetype": "text/x-python",
   "name": "python",
   "nbconvert_exporter": "python",
   "pygments_lexer": "ipython3",
   "version": "3.13.1"
  }
 },
 "nbformat": 4,
 "nbformat_minor": 5
}
