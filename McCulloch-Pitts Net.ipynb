{
 "cells": [
  {
   "cell_type": "code",
   "execution_count": 5,
   "id": "a4e2797c-0862-4579-987e-5f125ca03f2c",
   "metadata": {},
   "outputs": [],
   "source": [
    "import numpy as np\n",
    "import pandas as pd"
   ]
  },
  {
   "cell_type": "markdown",
   "id": "ca9cf32f-f02b-42e1-9831-3c323ae97aa8",
   "metadata": {},
   "source": [
    "# McCulloch Pits"
   ]
  },
  {
   "cell_type": "code",
   "execution_count": 6,
   "id": "e1fcfd80-42c0-4737-b0b7-92507303c557",
   "metadata": {},
   "outputs": [],
   "source": [
    "# let's train our model on OR gate using bipolar input and output"
   ]
  },
  {
   "cell_type": "code",
   "execution_count": 9,
   "id": "a82d6e67-6f12-4853-ace4-1b1975b4bdcd",
   "metadata": {},
   "outputs": [
    {
     "data": {
      "text/html": [
       "<div>\n",
       "<style scoped>\n",
       "    .dataframe tbody tr th:only-of-type {\n",
       "        vertical-align: middle;\n",
       "    }\n",
       "\n",
       "    .dataframe tbody tr th {\n",
       "        vertical-align: top;\n",
       "    }\n",
       "\n",
       "    .dataframe thead th {\n",
       "        text-align: right;\n",
       "    }\n",
       "</style>\n",
       "<table border=\"1\" class=\"dataframe\">\n",
       "  <thead>\n",
       "    <tr style=\"text-align: right;\">\n",
       "      <th></th>\n",
       "      <th>X1</th>\n",
       "      <th>X2</th>\n",
       "      <th>Y</th>\n",
       "    </tr>\n",
       "  </thead>\n",
       "  <tbody>\n",
       "    <tr>\n",
       "      <th>0</th>\n",
       "      <td>-1</td>\n",
       "      <td>-1</td>\n",
       "      <td>-1</td>\n",
       "    </tr>\n",
       "    <tr>\n",
       "      <th>1</th>\n",
       "      <td>-1</td>\n",
       "      <td>1</td>\n",
       "      <td>-1</td>\n",
       "    </tr>\n",
       "    <tr>\n",
       "      <th>2</th>\n",
       "      <td>1</td>\n",
       "      <td>-1</td>\n",
       "      <td>-1</td>\n",
       "    </tr>\n",
       "    <tr>\n",
       "      <th>3</th>\n",
       "      <td>1</td>\n",
       "      <td>1</td>\n",
       "      <td>1</td>\n",
       "    </tr>\n",
       "  </tbody>\n",
       "</table>\n",
       "</div>"
      ],
      "text/plain": [
       "   X1  X2  Y\n",
       "0  -1  -1 -1\n",
       "1  -1   1 -1\n",
       "2   1  -1 -1\n",
       "3   1   1  1"
      ]
     },
     "execution_count": 9,
     "metadata": {},
     "output_type": "execute_result"
    }
   ],
   "source": [
    "# Create the data points\n",
    "data = {\n",
    "    'X1': [-1, -1, 1, 1],\n",
    "    'X2': [-1, 1, -1, 1],\n",
    "    'Y':  [-1, -1, -1, 1]\n",
    "}\n",
    "\n",
    "\n",
    "df=pd.DataFrame(data)\n",
    "df"
   ]
  },
  {
   "cell_type": "code",
   "execution_count": 10,
   "id": "c28d3c00-f8e0-4b07-b027-35faec678b04",
   "metadata": {},
   "outputs": [],
   "source": [
    "# initialising the weights\n",
    "np.random.seed(42)\n",
    "w1=np.random.uniform(1,-1)\n",
    "w2=np.random.uniform(1,-1)\n",
    "b=np.random.uniform(1,-1)\n"
   ]
  },
  {
   "cell_type": "code",
   "execution_count": 12,
   "id": "2a3328af-a8f1-4ba1-9818-736d82ab7b42",
   "metadata": {},
   "outputs": [],
   "source": [
    "# training the model\n",
    "predictions=[]\n",
    "for i in range(len(df)):\n",
    "    x1=df.loc[i,'X1']\n",
    "    x2=df.loc[i,'X2']\n",
    "    y_in=w1*x1+w2*x2+b\n",
    "    y_pred= 1 if y_in>=0 else 0\n",
    "    predictions.append(y_pred)\n",
    "    "
   ]
  },
  {
   "cell_type": "code",
   "execution_count": null,
   "id": "94716ff5-f5e2-4132-9f35-2ae966c4ce17",
   "metadata": {},
   "outputs": [],
   "source": []
  }
 ],
 "metadata": {
  "kernelspec": {
   "display_name": "Python 3 (ipykernel)",
   "language": "python",
   "name": "python3"
  },
  "language_info": {
   "codemirror_mode": {
    "name": "ipython",
    "version": 3
   },
   "file_extension": ".py",
   "mimetype": "text/x-python",
   "name": "python",
   "nbconvert_exporter": "python",
   "pygments_lexer": "ipython3",
   "version": "3.13.1"
  }
 },
 "nbformat": 4,
 "nbformat_minor": 5
}
