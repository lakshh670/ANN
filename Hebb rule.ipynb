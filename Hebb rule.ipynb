{
 "cells": [
  {
   "cell_type": "markdown",
   "id": "41d52de2-3bc3-4dbd-87b2-c02ba880b296",
   "metadata": {},
   "source": [
    "# Hebb Rule"
   ]
  },
  {
   "cell_type": "code",
   "execution_count": 1,
   "id": "8d18c55f-aa22-4a9e-b023-c45bf5d5b1b0",
   "metadata": {},
   "outputs": [],
   "source": [
    "# unlike Mculloch-pits we update the weights in hebb rule"
   ]
  },
  {
   "cell_type": "code",
   "execution_count": 2,
   "id": "90045d5f-ce42-4b0f-a213-4ac80243104a",
   "metadata": {},
   "outputs": [],
   "source": [
    "import numpy as np\n",
    "import pandas as pd"
   ]
  },
  {
   "cell_type": "code",
   "execution_count": 4,
   "id": "9db832d5-b52f-4245-ba20-cd62822322e7",
   "metadata": {},
   "outputs": [],
   "source": [
    "# let's train our model using AND logic with bipolar inputs and outputs\n",
    "data={\n",
    "    'X1':[-1,-1,1,1],\n",
    "    'X2':[-1,1,-1,1],\n",
    "    'Y':[-1,-1,-1,1]\n",
    "}\n",
    "df=pd.DataFrame(data)\n"
   ]
  },
  {
   "cell_type": "code",
   "execution_count": 9,
   "id": "51cdc885-9d41-4358-abff-036b4b960a23",
   "metadata": {},
   "outputs": [],
   "source": [
    "# let's initialise the weights\n",
    "w1,w2,b=1,1,1\n",
    "predictions=[]\n",
    "for i in range(len(df)):\n",
    "    x1=df.loc[i,'X1']\n",
    "    x2=df.loc[i,'X2']\n",
    "    y=df.loc[i,'Y']\n",
    "    y_in=w1*x1+w2*x2+b\n",
    "    y_pred=1 if y_in>=0 else -1\n",
    "    predictions.append(y_pred)\n",
    "    w1=w1+x1*y\n",
    "    w2=w2+x2*y\n",
    "    b=b+y\n"
   ]
  },
  {
   "cell_type": "code",
   "execution_count": 10,
   "id": "52eda4f3-a72e-47d1-aff5-ca0932161925",
   "metadata": {},
   "outputs": [
    {
     "name": "stdout",
     "output_type": "stream",
     "text": [
      "Final weights:[(3, 3, -1)]\n"
     ]
    }
   ],
   "source": [
    "print(f'Final weights:[{int(w1),int(w2),int(b)}]')"
   ]
  },
  {
   "cell_type": "code",
   "execution_count": 11,
   "id": "e33f4278-b1f8-4d3b-b912-0fd8b1e61fa4",
   "metadata": {},
   "outputs": [
    {
     "data": {
      "text/html": [
       "<div>\n",
       "<style scoped>\n",
       "    .dataframe tbody tr th:only-of-type {\n",
       "        vertical-align: middle;\n",
       "    }\n",
       "\n",
       "    .dataframe tbody tr th {\n",
       "        vertical-align: top;\n",
       "    }\n",
       "\n",
       "    .dataframe thead th {\n",
       "        text-align: right;\n",
       "    }\n",
       "</style>\n",
       "<table border=\"1\" class=\"dataframe\">\n",
       "  <thead>\n",
       "    <tr style=\"text-align: right;\">\n",
       "      <th></th>\n",
       "      <th>X1</th>\n",
       "      <th>X2</th>\n",
       "      <th>Y</th>\n",
       "      <th>predictions</th>\n",
       "    </tr>\n",
       "  </thead>\n",
       "  <tbody>\n",
       "    <tr>\n",
       "      <th>0</th>\n",
       "      <td>-1</td>\n",
       "      <td>-1</td>\n",
       "      <td>-1</td>\n",
       "      <td>-1</td>\n",
       "    </tr>\n",
       "    <tr>\n",
       "      <th>1</th>\n",
       "      <td>-1</td>\n",
       "      <td>1</td>\n",
       "      <td>-1</td>\n",
       "      <td>1</td>\n",
       "    </tr>\n",
       "    <tr>\n",
       "      <th>2</th>\n",
       "      <td>1</td>\n",
       "      <td>-1</td>\n",
       "      <td>-1</td>\n",
       "      <td>1</td>\n",
       "    </tr>\n",
       "    <tr>\n",
       "      <th>3</th>\n",
       "      <td>1</td>\n",
       "      <td>1</td>\n",
       "      <td>1</td>\n",
       "      <td>1</td>\n",
       "    </tr>\n",
       "  </tbody>\n",
       "</table>\n",
       "</div>"
      ],
      "text/plain": [
       "   X1  X2  Y  predictions\n",
       "0  -1  -1 -1           -1\n",
       "1  -1   1 -1            1\n",
       "2   1  -1 -1            1\n",
       "3   1   1  1            1"
      ]
     },
     "execution_count": 11,
     "metadata": {},
     "output_type": "execute_result"
    }
   ],
   "source": [
    "df['predictions']=predictions\n",
    "df"
   ]
  },
  {
   "cell_type": "code",
   "execution_count": null,
   "id": "22216fef-044c-423a-8e14-14ed03b5c103",
   "metadata": {},
   "outputs": [],
   "source": []
  }
 ],
 "metadata": {
  "kernelspec": {
   "display_name": "Python 3 (ipykernel)",
   "language": "python",
   "name": "python3"
  },
  "language_info": {
   "codemirror_mode": {
    "name": "ipython",
    "version": 3
   },
   "file_extension": ".py",
   "mimetype": "text/x-python",
   "name": "python",
   "nbconvert_exporter": "python",
   "pygments_lexer": "ipython3",
   "version": "3.13.1"
  }
 },
 "nbformat": 4,
 "nbformat_minor": 5
}
